{
 "cells": [
  {
   "cell_type": "code",
   "execution_count": 2,
   "metadata": {},
   "outputs": [],
   "source": [
    "import csv\n",
    "from vertexai.generative_models import (\n",
    "    Content,\n",
    "    FunctionDeclaration,\n",
    "    GenerativeModel,\n",
    "    Part,\n",
    "    Tool,\n",
    ")\n",
    "\n",
    "get_query_args = FunctionDeclaration(\n",
    "    name=\"query_to_csv\",\n",
    "    description=\"Get the csv columns from the query\",\n",
    "    parameters={\n",
    "    \"type\": \"object\",\n",
    "    \"properties\": {\n",
    "        \"company\": {\n",
    "            \"type\": \"string\",\n",
    "            \"description\": \"string of company name include ['Amazon', 'AMD', 'Amkor', 'Apple', 'Applied Material', 'Baidu', 'Broadcom', 'Cirrus Logic', 'Google', 'Himax', 'Intel', 'KLA', 'Marvell', 'Microchip', 'Microsoft', 'Nvidia', 'ON Semi', 'Qorvo', 'Qualcomm', 'Samsung', 'STM', 'Tencent', 'Texas Instruments', 'TSMC', 'Western Digital'],\\\n",
    "                如果使用者輸入的是中文，請對應以下的公司名稱；[亞馬遜', '超微', '艾克爾國際科技', '蘋果', '應用材料', '百度', '博通', '思睿邏輯', '谷歌', '奇景光電', '英特爾', '科磊', '邁威爾科技', '微芯科技', '微軟', '輝達', '安森美', '威訊聯合半導體', '高通公司', '三星', '意法半導體', '騰訊', '德州儀器', '台灣積體電路製造', '威騰電子']. \\\n",
    "                If user assign other company name, return out of data\"\n",
    "        },\n",
    "        \"index\": {\n",
    "            \"type\": \"string\",\n",
    "            \"description\": \"index arguement means the finacial index that you want to extract from the raw data frame\\\n",
    "                string of index include ['Cost of Goods Sold', 'Operating Expense', 'Operating Income', 'Revenue', 'Tax Expense', 'Total Asset' , 'Gross profit margin' , 'Operating margin']. \\\n",
    "                User can input more than one index. For example, user_query = '我想知道 Apple 在 2023 的 revenue 和 Cost of Goods Sold', you should return like this format ['Revenue' , 'Cost of Goods Sold']\\\n",
    "                So if user give multiple indeces input, return the list of indeces. \\\n",
    "                If user assign other index name, return out of data. \\\n",
    "                如果使用者輸入的是中文，請對應以下的指標名稱 ,['銷貨成本', '營業費用', '營業收入', '營收', '稅費', '總資產', '毛利率', '營業利益率']\"\n",
    "        },\n",
    "        \"year\": {\n",
    "            \"type\": \"string\",\n",
    "            \"description\": \"user can assign the year, from 2020 to 2024. If user assign 'all' or not assign, return '2020'.\"\n",
    "        },\n",
    "        \"quarter\": {\n",
    "            \"type\": \"string\",\n",
    "            \"description\": \"user can assign the quarter, including ['Q1', 'Q2', 'Q3', 'Q4'], if user assign 'all' or not assign, return 'Q1'.\"\n",
    "        },\n",
    "    },\n",
    "        \"required\": [\n",
    "            \"company\",\n",
    "            \"index\",\n",
    "            \"year\",\n",
    "            \"quarter\"\n",
    "        ]\n",
    "  }\n",
    ")\n"
   ]
  },
  {
   "cell_type": "code",
   "execution_count": null,
   "metadata": {},
   "outputs": [],
   "source": [
    "import vertexai\n",
    "\n",
    "from vertexai.generative_models import GenerationConfig, GenerativeModel\n",
    "PROJECT_ID = \"tsmccareerhack2025-bsid-grp6\"\n",
    "REGION = \"us-central1\"\n",
    "vertexai.init(project=PROJECT_ID, location=REGION)\n",
    "response_schema = {\n",
    "    \"type\": \"ARRAY\",\n",
    "    \"items\": {\n",
    "        \"type\": \"OBJECT\",\n",
    "        \"properties\": {\n",
    "            \"topic\": {\"type\": \"STRING\"},\n",
    "            \"critical_point\": {\"type\": \"ARRAY\", \"items\": {\"type\": \"STRING\"}},\n",
    "        },\n",
    "        \"required\": [\"topic\", \"critical_point\", \"critical_data\"],\n",
    "    },\n",
    "}\n",
    "\n",
    "prompt = \"\"\"\n",
    "Summerize\n",
    "    Apple Inc. (NASDAQ:AAPL) Q3 2024 Earnings Conference Call August 1, 2024 5:00 PM ET Company Participants Suhasini Chandramouli - Director of IR Tim Cook - CEO Luca Maestri - CFO Conference Call Participants Erik Woodring - Morgan Stanley Ben Reitzes - Melius Mike Ng - Goldman Sachs Amit Daryanani - Evercore Wamsi Mohan - Bank of America Krish Sankar - TD Cowen David Vogt - UBS Atif Malik - Citi Samik Chatterjee - JPMorgan Richard Kramer - Arete Research Suhasini Chandramouli Good afternoon and welcome to the Apple Q3 Fiscal Year 2024 Earnings Conference Call. My name is Suhasini Chandramouli, Director of Investor Relations. Today's call is being recorded. Speaking first today is Apple’s CEO, Tim Cook, and he'll be followed by CFO, Luca Maestri. After that, we'll open the call to questions from analysts. Please note that some of the information you'll hear during our discussion today will consist of forward-looking statements, including, without limitation, those regarding revenue, gross margin, operating expenses, other income and expense, taxes, capital allocation, and future business outlook including the potential impact of macroeconomic conditions on the company's business and results of operations. These statements involve risks and uncertainties that may cause actual results or trends to differ materially from our forecast. For more information, please refer to the risk factors discussed in Apple's most recently filed Annual Report on Form 10-K and the Form 8-K filed with the SEC today along with the associated press release. Apple assumes no obligation to update any forward-looking statements which speak only as of the date they are made. I'd now like to turn the call over to Tim for introductory remarks. Tim Cook  Thank you Suhasini. Good afternoon everyone and thanks for joining the call. Today, Apple is reporting a new June quarter revenue record of $85.8 billion, up 5% from a year ago and better than we had expected. EPS grew double digits to $1.40 and achieved a record for the June quarter. We also set quarterly revenue records in more than two dozen countries and regions, including Canada, Mexico, France, Germany, the UK, India, Indonesia, the Philippines\n",
    "\"\"\"\n",
    "from langchain_google_vertexai import VertexAI\n",
    "\n",
    "# To use model\n",
    "model = VertexAI(model_name=\"gemini-1.5-pro\")\n",
    "response = model.client.generate_content(\n",
    "    prompt,\n",
    "    generation_config=GenerationConfig(\n",
    "        response_mime_type=\"application/json\", response_schema=response_schema\n",
    "    ),\n",
    ")\n"
   ]
  },
  {
   "cell_type": "code",
   "execution_count": 15,
   "metadata": {},
   "outputs": [
    {
     "data": {
      "text/plain": [
       "'[{\"topic\": \"Apple\\'s Q3 2024 Earnings Report\", \"critical_point\": [\"Apple exceeded revenue expectations with a new June quarter record.\", \"The company achieved double-digit EPS growth and record EPS for the June quarter.\", \"Quarterly revenue records were set in numerous countries and regions globally.\" ], \"critical_data\": [\"$85.8 billion in revenue, a 5% year-over-year increase.\", \"EPS of $1.40.\", \"Record revenue in over two dozen countries including Canada, Mexico, France, Germany, UK, India, Indonesia, and the Philippines.\" ]}]'"
      ]
     },
     "execution_count": 15,
     "metadata": {},
     "output_type": "execute_result"
    }
   ],
   "source": [
    "response.text"
   ]
  },
  {
   "cell_type": "code",
   "execution_count": 17,
   "metadata": {},
   "outputs": [],
   "source": [
    "import json\n",
    "analysis = json.loads(response.text)"
   ]
  },
  {
   "cell_type": "code",
   "execution_count": 18,
   "metadata": {},
   "outputs": [
    {
     "data": {
      "text/plain": [
       "[{'topic': \"Apple's Q3 2024 Earnings Report\",\n",
       "  'critical_point': ['Apple exceeded revenue expectations with a new June quarter record.',\n",
       "   'The company achieved double-digit EPS growth and record EPS for the June quarter.',\n",
       "   'Quarterly revenue records were set in numerous countries and regions globally.'],\n",
       "  'critical_data': ['$85.8 billion in revenue, a 5% year-over-year increase.',\n",
       "   'EPS of $1.40.',\n",
       "   'Record revenue in over two dozen countries including Canada, Mexico, France, Germany, UK, India, Indonesia, and the Philippines.']}]"
      ]
     },
     "execution_count": 18,
     "metadata": {},
     "output_type": "execute_result"
    }
   ],
   "source": [
    "analysis"
   ]
  },
  {
   "cell_type": "code",
   "execution_count": null,
   "metadata": {},
   "outputs": [
    {
     "data": {
      "text/plain": [
       "'[{\"recipe_name\": \"Chocolate Chip Cookies\", \"ingredients\": [\"1 cup (2 sticks) unsalted butter, softened\", \"1 cup granulated sugar\", \"1 cup packed brown sugar\", \"2 teaspoons pure vanilla extract\", \"2 large eggs\", \"3 cups all-purpose flour\", \"1 teaspoon baking soda\", \"1 teaspoon salt\", \"2 cups chocolate chips\"]}, {\"recipe_name\": \"Peanut Butter Cookies\", \"ingredients\": [\"1 cup creamy peanut butter\", \"1 cup granulated sugar\", \"1 cup packed brown sugar\", \"1 large egg\", \"1 teaspoon vanilla extract\", \"1 teaspoon baking soda\"]}, {\"recipe_name\": \"Oatmeal Raisin Cookies\", \"ingredients\": [\"1 cup (2 sticks) unsalted butter, softened\", \"1 cup granulated sugar\", \"1 cup packed brown sugar\", \"2 large eggs\", \"1 teaspoon vanilla extract\", \"1 1/2 cups all-purpose flour\", \"1 teaspoon baking soda\", \"1 teaspoon ground cinnamon\", \"1/2 teaspoon salt\", \"3 cups rolled oats\", \"1 cup raisins\"]}]'"
      ]
     },
     "execution_count": 3,
     "metadata": {},
     "output_type": "execute_result"
    }
   ],
   "source": [
    "from langchain_google_vertexai import VertexAI\n",
    "\n",
    "# To use model\n",
    "model = VertexAI(model_name=\"gemini-1.5-pro\")"
   ]
  },
  {
   "cell_type": "code",
   "execution_count": 26,
   "metadata": {},
   "outputs": [],
   "source": [
    "model = GenerativeModel(\"gemini-1.5-pro\")\n",
    "\n",
    "plot_tool = Tool(\n",
    "    function_declarations=[get_query_args],\n",
    ")\n",
    "\n",
    "prompt = \"\"\"Apple 在 2021 年的 Total Asset（總資產）是多少？\"\"\"\n",
    "\n",
    "response = model.generate_content(\n",
    "    prompt,\n",
    "    tools=[plot_tool],\n",
    ")"
   ]
  },
  {
   "cell_type": "code",
   "execution_count": 27,
   "metadata": {},
   "outputs": [
    {
     "data": {
      "text/plain": [
       "candidates {\n",
       "  content {\n",
       "    role: \"model\"\n",
       "    parts {\n",
       "      function_call {\n",
       "        name: \"query_to_csv\"\n",
       "        args {\n",
       "          fields {\n",
       "            key: \"year\"\n",
       "            value {\n",
       "              string_value: \"2021\"\n",
       "            }\n",
       "          }\n",
       "          fields {\n",
       "            key: \"quarter\"\n",
       "            value {\n",
       "              string_value: \"all\"\n",
       "            }\n",
       "          }\n",
       "          fields {\n",
       "            key: \"index\"\n",
       "            value {\n",
       "              list_value {\n",
       "                values {\n",
       "                  string_value: \"Total Asset\"\n",
       "                }\n",
       "              }\n",
       "            }\n",
       "          }\n",
       "          fields {\n",
       "            key: \"company\"\n",
       "            value {\n",
       "              string_value: \"Apple\"\n",
       "            }\n",
       "          }\n",
       "        }\n",
       "      }\n",
       "    }\n",
       "  }\n",
       "  finish_reason: STOP\n",
       "  safety_ratings {\n",
       "    category: HARM_CATEGORY_HATE_SPEECH\n",
       "    probability: NEGLIGIBLE\n",
       "    probability_score: 0.142578125\n",
       "    severity: HARM_SEVERITY_NEGLIGIBLE\n",
       "    severity_score: 0.103515625\n",
       "  }\n",
       "  safety_ratings {\n",
       "    category: HARM_CATEGORY_DANGEROUS_CONTENT\n",
       "    probability: NEGLIGIBLE\n",
       "    probability_score: 0.26953125\n",
       "    severity: HARM_SEVERITY_LOW\n",
       "    severity_score: 0.211914062\n",
       "  }\n",
       "  safety_ratings {\n",
       "    category: HARM_CATEGORY_HARASSMENT\n",
       "    probability: NEGLIGIBLE\n",
       "    probability_score: 0.2421875\n",
       "    severity: HARM_SEVERITY_NEGLIGIBLE\n",
       "    severity_score: 0.121582031\n",
       "  }\n",
       "  safety_ratings {\n",
       "    category: HARM_CATEGORY_SEXUALLY_EXPLICIT\n",
       "    probability: NEGLIGIBLE\n",
       "    probability_score: 0.140625\n",
       "    severity: HARM_SEVERITY_NEGLIGIBLE\n",
       "    severity_score: 0.106933594\n",
       "  }\n",
       "  avg_logprobs: -0.05303020687664256\n",
       "}\n",
       "usage_metadata {\n",
       "  prompt_token_count: 549\n",
       "  candidates_token_count: 17\n",
       "  total_token_count: 566\n",
       "  prompt_tokens_details {\n",
       "    modality: TEXT\n",
       "    token_count: 549\n",
       "  }\n",
       "  candidates_tokens_details {\n",
       "    modality: TEXT\n",
       "    token_count: 17\n",
       "  }\n",
       "}\n",
       "model_version: \"gemini-1.5-pro-001\""
      ]
     },
     "execution_count": 27,
     "metadata": {},
     "output_type": "execute_result"
    }
   ],
   "source": [
    "response"
   ]
  },
  {
   "cell_type": "code",
   "execution_count": 28,
   "metadata": {},
   "outputs": [
    {
     "data": {
      "text/plain": [
       "{'year': '2021',\n",
       " 'company': 'Apple',\n",
       " 'index': ['Total Asset'],\n",
       " 'quarter': 'all'}"
      ]
     },
     "execution_count": 28,
     "metadata": {},
     "output_type": "execute_result"
    }
   ],
   "source": [
    "search_params = {}\n",
    "for key, value in response.candidates[0].content.parts[0].function_call.args.items():\n",
    "    search_params[key] = value\n",
    "search_params"
   ]
  },
  {
   "cell_type": "code",
   "execution_count": 29,
   "metadata": {},
   "outputs": [
    {
     "ename": "ValueError",
     "evalue": "('Lengths must match to compare', (2832,), (1,))",
     "output_type": "error",
     "traceback": [
      "\u001b[1;31m---------------------------------------------------------------------------\u001b[0m",
      "\u001b[1;31mValueError\u001b[0m                                Traceback (most recent call last)",
      "Cell \u001b[1;32mIn[29], line 19\u001b[0m\n\u001b[0;32m     16\u001b[0m     \u001b[38;5;28;01melse\u001b[39;00m:\n\u001b[0;32m     17\u001b[0m         \u001b[38;5;28;01mreturn\u001b[39;00m \u001b[38;5;124m\"\u001b[39m\u001b[38;5;124mNo matching record found.\u001b[39m\u001b[38;5;124m\"\u001b[39m\n\u001b[1;32m---> 19\u001b[0m self_function_response \u001b[38;5;241m=\u001b[39m get_csv_data(search_params)\n\u001b[0;32m     20\u001b[0m self_function_response\n",
      "Cell \u001b[1;32mIn[29], line 8\u001b[0m, in \u001b[0;36mget_csv_data\u001b[1;34m(search_params)\u001b[0m\n\u001b[0;32m      4\u001b[0m df \u001b[38;5;241m=\u001b[39m pd\u001b[38;5;241m.\u001b[39mread_csv(\u001b[38;5;124m\"\u001b[39m\u001b[38;5;124mFIN_Data.csv\u001b[39m\u001b[38;5;124m\"\u001b[39m)\n\u001b[0;32m      5\u001b[0m \u001b[38;5;66;03m# Filter data\u001b[39;00m\n\u001b[0;32m      6\u001b[0m filtered_df \u001b[38;5;241m=\u001b[39m df[\n\u001b[0;32m      7\u001b[0m     (df[\u001b[38;5;124m'\u001b[39m\u001b[38;5;124mCompany Name\u001b[39m\u001b[38;5;124m'\u001b[39m] \u001b[38;5;241m==\u001b[39m search_params[\u001b[38;5;124m'\u001b[39m\u001b[38;5;124mcompany\u001b[39m\u001b[38;5;124m'\u001b[39m]) \u001b[38;5;241m&\u001b[39m\n\u001b[1;32m----> 8\u001b[0m     (df[\u001b[38;5;124m'\u001b[39m\u001b[38;5;124mIndex\u001b[39m\u001b[38;5;124m'\u001b[39m] \u001b[38;5;241m==\u001b[39m search_params[\u001b[38;5;124m'\u001b[39m\u001b[38;5;124mindex\u001b[39m\u001b[38;5;124m'\u001b[39m]) \u001b[38;5;241m&\u001b[39m\n\u001b[0;32m      9\u001b[0m     (df[\u001b[38;5;124m'\u001b[39m\u001b[38;5;124mCALENDAR_YEAR\u001b[39m\u001b[38;5;124m'\u001b[39m]\u001b[38;5;241m.\u001b[39mastype(\u001b[38;5;28mstr\u001b[39m) \u001b[38;5;241m==\u001b[39m search_params[\u001b[38;5;124m'\u001b[39m\u001b[38;5;124myear\u001b[39m\u001b[38;5;124m'\u001b[39m]) \u001b[38;5;241m&\u001b[39m\n\u001b[0;32m     10\u001b[0m     (df[\u001b[38;5;124m'\u001b[39m\u001b[38;5;124mCALENDAR_QTR\u001b[39m\u001b[38;5;124m'\u001b[39m] \u001b[38;5;241m==\u001b[39m search_params[\u001b[38;5;124m'\u001b[39m\u001b[38;5;124mquarter\u001b[39m\u001b[38;5;124m'\u001b[39m])\n\u001b[0;32m     11\u001b[0m ]\n\u001b[0;32m     12\u001b[0m \u001b[38;5;28;01mif\u001b[39;00m \u001b[38;5;129;01mnot\u001b[39;00m filtered_df\u001b[38;5;241m.\u001b[39mempty:\n\u001b[0;32m     13\u001b[0m     usd_value \u001b[38;5;241m=\u001b[39m filtered_df[\u001b[38;5;124m'\u001b[39m\u001b[38;5;124mUSD_Value\u001b[39m\u001b[38;5;124m'\u001b[39m]\u001b[38;5;241m.\u001b[39mvalues[\u001b[38;5;241m0\u001b[39m]\n",
      "File \u001b[1;32mc:\\Users\\Allen Yu\\anaconda3\\Lib\\site-packages\\pandas\\core\\ops\\common.py:76\u001b[0m, in \u001b[0;36m_unpack_zerodim_and_defer.<locals>.new_method\u001b[1;34m(self, other)\u001b[0m\n\u001b[0;32m     72\u001b[0m             \u001b[38;5;28;01mreturn\u001b[39;00m \u001b[38;5;28mNotImplemented\u001b[39m\n\u001b[0;32m     74\u001b[0m other \u001b[38;5;241m=\u001b[39m item_from_zerodim(other)\n\u001b[1;32m---> 76\u001b[0m \u001b[38;5;28;01mreturn\u001b[39;00m method(\u001b[38;5;28mself\u001b[39m, other)\n",
      "File \u001b[1;32mc:\\Users\\Allen Yu\\anaconda3\\Lib\\site-packages\\pandas\\core\\arraylike.py:40\u001b[0m, in \u001b[0;36mOpsMixin.__eq__\u001b[1;34m(self, other)\u001b[0m\n\u001b[0;32m     38\u001b[0m \u001b[38;5;129m@unpack_zerodim_and_defer\u001b[39m(\u001b[38;5;124m\"\u001b[39m\u001b[38;5;124m__eq__\u001b[39m\u001b[38;5;124m\"\u001b[39m)\n\u001b[0;32m     39\u001b[0m \u001b[38;5;28;01mdef\u001b[39;00m \u001b[38;5;21m__eq__\u001b[39m(\u001b[38;5;28mself\u001b[39m, other):\n\u001b[1;32m---> 40\u001b[0m     \u001b[38;5;28;01mreturn\u001b[39;00m \u001b[38;5;28mself\u001b[39m\u001b[38;5;241m.\u001b[39m_cmp_method(other, operator\u001b[38;5;241m.\u001b[39meq)\n",
      "File \u001b[1;32mc:\\Users\\Allen Yu\\anaconda3\\Lib\\site-packages\\pandas\\core\\series.py:6119\u001b[0m, in \u001b[0;36mSeries._cmp_method\u001b[1;34m(self, other, op)\u001b[0m\n\u001b[0;32m   6116\u001b[0m lvalues \u001b[38;5;241m=\u001b[39m \u001b[38;5;28mself\u001b[39m\u001b[38;5;241m.\u001b[39m_values\n\u001b[0;32m   6117\u001b[0m rvalues \u001b[38;5;241m=\u001b[39m extract_array(other, extract_numpy\u001b[38;5;241m=\u001b[39m\u001b[38;5;28;01mTrue\u001b[39;00m, extract_range\u001b[38;5;241m=\u001b[39m\u001b[38;5;28;01mTrue\u001b[39;00m)\n\u001b[1;32m-> 6119\u001b[0m res_values \u001b[38;5;241m=\u001b[39m ops\u001b[38;5;241m.\u001b[39mcomparison_op(lvalues, rvalues, op)\n\u001b[0;32m   6121\u001b[0m \u001b[38;5;28;01mreturn\u001b[39;00m \u001b[38;5;28mself\u001b[39m\u001b[38;5;241m.\u001b[39m_construct_result(res_values, name\u001b[38;5;241m=\u001b[39mres_name)\n",
      "File \u001b[1;32mc:\\Users\\Allen Yu\\anaconda3\\Lib\\site-packages\\pandas\\core\\ops\\array_ops.py:321\u001b[0m, in \u001b[0;36mcomparison_op\u001b[1;34m(left, right, op)\u001b[0m\n\u001b[0;32m    316\u001b[0m \u001b[38;5;28;01mif\u001b[39;00m \u001b[38;5;28misinstance\u001b[39m(rvalues, (np\u001b[38;5;241m.\u001b[39mndarray, ABCExtensionArray)):\n\u001b[0;32m    317\u001b[0m     \u001b[38;5;66;03m# TODO: make this treatment consistent across ops and classes.\u001b[39;00m\n\u001b[0;32m    318\u001b[0m     \u001b[38;5;66;03m#  We are not catching all listlikes here (e.g. frozenset, tuple)\u001b[39;00m\n\u001b[0;32m    319\u001b[0m     \u001b[38;5;66;03m#  The ambiguous case is object-dtype.  See GH#27803\u001b[39;00m\n\u001b[0;32m    320\u001b[0m     \u001b[38;5;28;01mif\u001b[39;00m \u001b[38;5;28mlen\u001b[39m(lvalues) \u001b[38;5;241m!=\u001b[39m \u001b[38;5;28mlen\u001b[39m(rvalues):\n\u001b[1;32m--> 321\u001b[0m         \u001b[38;5;28;01mraise\u001b[39;00m \u001b[38;5;167;01mValueError\u001b[39;00m(\n\u001b[0;32m    322\u001b[0m             \u001b[38;5;124m\"\u001b[39m\u001b[38;5;124mLengths must match to compare\u001b[39m\u001b[38;5;124m\"\u001b[39m, lvalues\u001b[38;5;241m.\u001b[39mshape, rvalues\u001b[38;5;241m.\u001b[39mshape\n\u001b[0;32m    323\u001b[0m         )\n\u001b[0;32m    325\u001b[0m \u001b[38;5;28;01mif\u001b[39;00m should_extension_dispatch(lvalues, rvalues) \u001b[38;5;129;01mor\u001b[39;00m (\n\u001b[0;32m    326\u001b[0m     (\u001b[38;5;28misinstance\u001b[39m(rvalues, (Timedelta, BaseOffset, Timestamp)) \u001b[38;5;129;01mor\u001b[39;00m right \u001b[38;5;129;01mis\u001b[39;00m NaT)\n\u001b[0;32m    327\u001b[0m     \u001b[38;5;129;01mand\u001b[39;00m lvalues\u001b[38;5;241m.\u001b[39mdtype \u001b[38;5;241m!=\u001b[39m \u001b[38;5;28mobject\u001b[39m\n\u001b[0;32m    328\u001b[0m ):\n\u001b[0;32m    329\u001b[0m     \u001b[38;5;66;03m# Call the method on lvalues\u001b[39;00m\n\u001b[0;32m    330\u001b[0m     res_values \u001b[38;5;241m=\u001b[39m op(lvalues, rvalues)\n",
      "\u001b[1;31mValueError\u001b[0m: ('Lengths must match to compare', (2832,), (1,))"
     ]
    }
   ],
   "source": [
    "import pandas as pd\n",
    "\n",
    "def get_csv_data(search_params):\n",
    "    df = pd.read_csv(\"FIN_Data.csv\")\n",
    "    # Filter data\n",
    "    filtered_df = df[\n",
    "        (df['Company Name'] == search_params['company']) &\n",
    "        (df['Index'] == search_params['index']) &\n",
    "        (df['CALENDAR_YEAR'].astype(str) == search_params['year']) &\n",
    "        (df['CALENDAR_QTR'] == search_params['quarter'])\n",
    "    ]\n",
    "    if not filtered_df.empty:\n",
    "        usd_value = filtered_df['USD_Value'].values[0]\n",
    "        print(f\"USD Value: {usd_value}\")\n",
    "        return str(usd_value)\n",
    "    else:\n",
    "        return \"No matching record found.\"\n",
    "    \n",
    "self_function_response = get_csv_data(search_params)\n",
    "self_function_response"
   ]
  },
  {
   "cell_type": "code",
   "execution_count": 24,
   "metadata": {},
   "outputs": [
    {
     "data": {
      "text/plain": [
       "\"I cannot answer this question. The available tool does not have the information about Apple's Total Asset. \\n\""
      ]
     },
     "execution_count": 24,
     "metadata": {},
     "output_type": "execute_result"
    }
   ],
   "source": [
    "response = model.generate_content(\n",
    "    [\n",
    "    Content(role=\"user\", parts=[\n",
    "        Part.from_text(prompt + \"\"\"Give your answer concise and clear.\"\"\"),\n",
    "    ]),\n",
    "    Content(role=\"function\", parts=[\n",
    "        Part.from_dict({\n",
    "            \"function_call\": {\n",
    "                \"name\": \"get_query_args\",\n",
    "            }\n",
    "        })\n",
    "    ]),\n",
    "    Content(role=\"function\", parts=[\n",
    "        Part.from_function_response(\n",
    "            name=\"get_query_args\",\n",
    "            response={\n",
    "                \"content\": self_function_response,\n",
    "            }\n",
    "        )\n",
    "    ]),\n",
    "    ],\n",
    "    tools=[plot_tool],\n",
    ")\n",
    "\n",
    "\n",
    "response.candidates[0].content.parts[0].text"
   ]
  },
  {
   "cell_type": "code",
   "execution_count": null,
   "metadata": {},
   "outputs": [],
   "source": []
  }
 ],
 "metadata": {
  "kernelspec": {
   "display_name": "base",
   "language": "python",
   "name": "python3"
  },
  "language_info": {
   "codemirror_mode": {
    "name": "ipython",
    "version": 3
   },
   "file_extension": ".py",
   "mimetype": "text/x-python",
   "name": "python",
   "nbconvert_exporter": "python",
   "pygments_lexer": "ipython3",
   "version": "3.12.7"
  }
 },
 "nbformat": 4,
 "nbformat_minor": 2
}
