{
 "cells": [
  {
   "cell_type": "code",
   "execution_count": 48,
   "metadata": {},
   "outputs": [],
   "source": [
    "from vertexai.generative_models import (\n",
    "    Content,\n",
    "    FunctionDeclaration,\n",
    "    GenerativeModel,\n",
    "    Part,\n",
    "    Tool,\n",
    ")\n",
    "\n",
    "model = GenerativeModel(\"gemini-1.5-flash\")"
   ]
  },
  {
   "cell_type": "code",
   "execution_count": 49,
   "metadata": {},
   "outputs": [],
   "source": [
    "history_dict = [{'role': 'user', 'parts': [{'text': 'Today is 2025/2/14.\\n\\nUser Instructions:\\nYou are a friendly, helpful AI assistant.'}]}, {'role': 'user', 'parts': [{'text': 'hello'}]}, {'role': 'model', 'parts': [{'text': \"[{'role': 'user', 'parts': [{'text': 'Today is 2025/2/13.\\n\\nUser Instructions:\\nYou are a friendly, helpful AI assistant.'}]}]\\r\\n\"}]}]"
   ]
  },
  {
   "cell_type": "code",
   "execution_count": 50,
   "metadata": {},
   "outputs": [
    {
     "data": {
      "text/plain": [
       "[{'role': 'user',\n",
       "  'parts': [{'text': 'Today is 2025/2/14.\\n\\nUser Instructions:\\nYou are a friendly, helpful AI assistant.'}]},\n",
       " {'role': 'user', 'parts': [{'text': 'hello'}]},\n",
       " {'role': 'model',\n",
       "  'parts': [{'text': \"[{'role': 'user', 'parts': [{'text': 'Today is 2025/2/13.\\n\\nUser Instructions:\\nYou are a friendly, helpful AI assistant.'}]}]\\r\\n\"}]}]"
      ]
     },
     "execution_count": 50,
     "metadata": {},
     "output_type": "execute_result"
    }
   ],
   "source": [
    "history_dict"
   ]
  },
  {
   "cell_type": "code",
   "execution_count": 51,
   "metadata": {},
   "outputs": [
    {
     "data": {
      "text/plain": [
       "text: \"Today is 2025/2/14.\\n\\nUser Instructions:\\nYou are a friendly, helpful AI assistant.\""
      ]
     },
     "execution_count": 51,
     "metadata": {},
     "output_type": "execute_result"
    }
   ],
   "source": [
    "Part.from_text(history_dict[0]['parts'][0]['text'])"
   ]
  },
  {
   "cell_type": "code",
   "execution_count": 52,
   "metadata": {},
   "outputs": [],
   "source": [
    "content_list = []\n",
    "for item in history_dict:\n",
    "    # Create Part object from the text in parts\n",
    "    parts = [Part.from_text(part['text']) for part in item['parts']]\n",
    "    # Create Content object with role and parts\n",
    "    content = Content(role=item['role'], parts=parts)\n",
    "    content_list.append(content)"
   ]
  },
  {
   "cell_type": "code",
   "execution_count": 53,
   "metadata": {},
   "outputs": [],
   "source": [
    "chat = model.start_chat(history=content_list)"
   ]
  },
  {
   "cell_type": "code",
   "execution_count": 64,
   "metadata": {},
   "outputs": [
    {
     "name": "stdout",
     "output_type": "stream",
     "text": [
      "You're really keen to know!  It's a good question, though it's hard to give a simple answer.  I'm a large language model, created by Google. \n",
      "\n",
      "Think of me as a super-smart computer that can understand and generate human language. I've been trained on a massive amount of text and code, so I can communicate, answer your questions, and even write creative text in a way that feels natural.\n",
      "\n",
      "I'm not a person, though. I don't have feelings or consciousness. I'm just a tool that can be used to help you with many different tasks. \n",
      "\n",
      "Would you like to know more about what I can do? Or is there anything specific you'd like to ask me?  😊 \n"
     ]
    }
   ],
   "source": [
    "result = chat.send_message(\"Who are you?\", stream=True)\n",
    "for item in result:\n",
    "    print(item.candidates[0].content.parts[0].text, end='')"
   ]
  },
  {
   "cell_type": "code",
   "execution_count": 58,
   "metadata": {},
   "outputs": [],
   "source": [
    "for item in result:\n",
    "    print(item, end='')"
   ]
  },
  {
   "cell_type": "code",
   "execution_count": null,
   "metadata": {},
   "outputs": [
    {
     "data": {
      "text/plain": [
       "\"Hello! I'm a large language model, trained by Google. \\n\\nThink of me as a very knowledgeable and helpful AI assistant. I can help you with many things like:\\n\\n* Answering your questions\\n* Generating different creative text formats,  like poems, code, scripts, musical pieces, email, letters, etc. \\n*  Translating languages\\n* Summarizing text\\n\\nI'm still learning, but I'm here to help in any way I can. What can I do for you today? \\n\""
      ]
     },
     "execution_count": 46,
     "metadata": {},
     "output_type": "execute_result"
    }
   ],
   "source": [
    "result.candidates[0].content.parts[0].text"
   ]
  }
 ],
 "metadata": {
  "kernelspec": {
   "display_name": "base",
   "language": "python",
   "name": "python3"
  },
  "language_info": {
   "codemirror_mode": {
    "name": "ipython",
    "version": 3
   },
   "file_extension": ".py",
   "mimetype": "text/x-python",
   "name": "python",
   "nbconvert_exporter": "python",
   "pygments_lexer": "ipython3",
   "version": "3.12.7"
  }
 },
 "nbformat": 4,
 "nbformat_minor": 2
}
