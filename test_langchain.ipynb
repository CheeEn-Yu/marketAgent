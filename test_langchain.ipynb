{
 "cells": [
  {
   "cell_type": "code",
   "execution_count": 1,
   "metadata": {},
   "outputs": [],
   "source": [
    "from langchain_google_vertexai import VertexAI\n",
    "\n",
    "# To use model\n",
    "model = VertexAI(model_name=\"gemini-1.5-pro\")"
   ]
  },
  {
   "cell_type": "code",
   "execution_count": 3,
   "metadata": {},
   "outputs": [],
   "source": [
    "from langchain.agents.agent_types import AgentType\n",
    "from langchain_experimental.agents.agent_toolkits import create_csv_agent\n",
    "agent = create_csv_agent(\n",
    "    model,\n",
    "    \"FIN_data.csv\",\n",
    "    verbose=True,\n",
    "    agent_type=AgentType.ZERO_SHOT_REACT_DESCRIPTION,\n",
    "    allow_dangerous_code=True,\n",
    ")"
   ]
  },
  {
   "cell_type": "code",
   "execution_count": 12,
   "metadata": {},
   "outputs": [
    {
     "name": "stdout",
     "output_type": "stream",
     "text": [
      "\n",
      "\n",
      "\u001b[1m> Entering new AgentExecutor chain...\u001b[0m\n",
      "\u001b[32;1m\u001b[1;3mThought: I need to calculate the growth rate of Amazon's revenue from Q1 2020 to Q1 2021.\n",
      "Thought: First, I need to find the revenue for Amazon in Q1 2020 and Q1 2021.\n",
      "Action: python_repl_ast\n",
      "Action Input: \n",
      "```python\n",
      "df[(df['Company Name'] == 'Amazon') & (df['CALENDAR_YEAR'] == 2020) & (df['CALENDAR_QTR'] == 'Q1') & (df['Index'] == 'Revenue')]['USD_Value']\n",
      "```\u001b[0m\u001b[36;1m\u001b[1;3m3    75452.0\n",
      "Name: USD_Value, dtype: float64\u001b[0m\u001b[32;1m\u001b[1;3mObservation: 3    75452.0\n",
      "Name: USD_Value, dtype: float64\n",
      "Thought: The revenue for Amazon in Q1 2020 is 75452 million USD.\n",
      "Action: python_repl_ast\n",
      "Action Input: \n",
      "```python\n",
      "df[(df['Company Name'] == 'Amazon') & (df['CALENDAR_YEAR'] == 2021) & (df['CALENDAR_QTR'] == 'Q1') & (df['Index'] == 'Revenue')]['USD_Value']\n",
      "```\u001b[0m\u001b[36;1m\u001b[1;3m27    108518.0\n",
      "Name: USD_Value, dtype: float64\u001b[0m\u001b[32;1m\u001b[1;3mObservation: 27    108518.0\n",
      "Name: USD_Value, dtype: float64\n",
      "Thought: The revenue for Amazon in Q1 2021 is 108518 million USD.\n",
      "Thought: Now I can calculate the growth rate.\n",
      "Action: python_repl_ast\n",
      "Action Input: \n",
      "```python\n",
      "(108518 - 75452) / 75452 * 100\n",
      "```\u001b[0m\u001b[36;1m\u001b[1;3m43.82388803477708\u001b[0m\u001b[32;1m\u001b[1;3mThought: The growth rate is 43.82%.\n",
      "Final Answer: Amazon 2020 Q1 到 2021 Q1 的 Revenue 成長率是 43.82%. \n",
      "\u001b[0m\n",
      "\n",
      "\u001b[1m> Finished chain.\u001b[0m\n"
     ]
    }
   ],
   "source": [
    "response = agent.run(\"Amazon 2020 Q1 到 2021 Q1 的 Revenue 成長率是多少？\")"
   ]
  },
  {
   "cell_type": "code",
   "execution_count": 11,
   "metadata": {},
   "outputs": [
    {
     "data": {
      "text/plain": [
       "'2020 年第一季，亞馬遜的收入為 75452 百萬美元，而微軟的收入為 35021 百萬美元。亞馬遜的收入較高。'"
      ]
     },
     "execution_count": 11,
     "metadata": {},
     "output_type": "execute_result"
    }
   ],
   "source": [
    "response"
   ]
  }
 ],
 "metadata": {
  "kernelspec": {
   "display_name": "base",
   "language": "python",
   "name": "python3"
  },
  "language_info": {
   "codemirror_mode": {
    "name": "ipython",
    "version": 3
   },
   "file_extension": ".py",
   "mimetype": "text/x-python",
   "name": "python",
   "nbconvert_exporter": "python",
   "pygments_lexer": "ipython3",
   "version": "3.12.7"
  }
 },
 "nbformat": 4,
 "nbformat_minor": 2
}
