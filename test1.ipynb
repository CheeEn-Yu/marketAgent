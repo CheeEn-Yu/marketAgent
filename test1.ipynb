{
 "cells": [
  {
   "cell_type": "code",
   "execution_count": 1,
   "metadata": {},
   "outputs": [
    {
     "data": {
      "text/plain": [
       "'{\"amount\":1.0,\"base\":\"EUR\",\"date\":\"2025-02-10\",\"rates\":{\"AUD\":1.6448,\"BGN\":1.9558,\"BRL\":5.9622,\"CAD\":1.4798,\"CHF\":0.9396,\"CNY\":7.5395,\"CZK\":25.073,\"DKK\":7.4584,\"GBP\":0.83283,\"HKD\":8.04,\"HUF\":403.88,\"IDR\":16868,\"ILS\":3.679,\"INR\":90.27,\"ISK\":146.6,\"JPY\":156.92,\"KRW\":1496.81,\"MXN\":21.238,\"MYR\":4.613,\"NOK\":11.5745,\"NZD\":1.8257,\"PHP\":60.011,\"PLN\":4.1758,\"RON\":4.9769,\"SEK\":11.2765,\"SGD\":1.3972,\"THB\":34.993,\"TRY\":37.148,\"USD\":1.032,\"ZAR\":19.0069}}'"
      ]
     },
     "execution_count": 1,
     "metadata": {},
     "output_type": "execute_result"
    }
   ],
   "source": []
  },
  {
   "cell_type": "code",
   "execution_count": null,
   "metadata": {},
   "outputs": [],
   "source": [
    "from vertexai.generative_models import (\n",
    "    Content,\n",
    "    FunctionDeclaration,\n",
    "    GenerativeModel,\n",
    "    Part,\n",
    "    Tool,\n",
    ")\n",
    "\n",
    "model = GenerativeModel(\"gemini-1.5-pro-001\")\n",
    "\n",
    "get_plot_args = FunctionDeclaration(\n",
    "    name=\"plot_line_chart\",\n",
    "    description=\"Get the exchange rate for currencies between countries\",\n",
    "    parameters={\n",
    "    \"type\": \"object\",\n",
    "    \"properties\": {\n",
    "        \"companies\": {\n",
    "            \"type\": \"string\",\n",
    "            \"description\": \"string of company name include [google, facebook, amazon, apple, microsoft]. If user assign other company name, return out of data\"\n",
    "        },\n",
    "        \"index\": {\n",
    "            \"type\": \"integer\",\n",
    "            \"description\": \"\"\n",
    "        },\n",
    "        \"quarters\": {\n",
    "            \"type\": \"string\",\n",
    "            \"description\": \"from Q1 to Q4, if user assign latest, return Q4\"\n",
    "        },\n",
    "        \"years\": {\n",
    "            \"type\": \"integer\",\n",
    "            \"description\": \"from 2020 to 2024, if user assign latest, return 2024\"\n",
    "        },\n",
    "    },\n",
    "         \"required\": [\n",
    "            \"company\",\n",
    "            \"index\",\n",
    "            \"quarters\",\n",
    "            \"years\"\n",
    "      ]\n",
    "  },\n",
    ")\n",
    "\n",
    "plot_tool = Tool(\n",
    "    function_declarations=[get_plot_args],\n",
    ")\n",
    "\n",
    "prompt = \"\"\"100塊台幣是多少美金?\"\"\"\n",
    "\n",
    "response = model.generate_content(\n",
    "    prompt,\n",
    "    tools=[plot_tool],\n",
    ")"
   ]
  },
  {
   "cell_type": "code",
   "execution_count": 8,
   "metadata": {},
   "outputs": [
    {
     "data": {
      "text/plain": [
       "candidates {\n",
       "  content {\n",
       "    role: \"model\"\n",
       "    parts {\n",
       "      function_call {\n",
       "        name: \"get_exchange_rate\"\n",
       "        args {\n",
       "          fields {\n",
       "            key: \"currency_to\"\n",
       "            value {\n",
       "              string_value: \"USD\"\n",
       "            }\n",
       "          }\n",
       "          fields {\n",
       "            key: \"currency_from\"\n",
       "            value {\n",
       "              string_value: \"TWD\"\n",
       "            }\n",
       "          }\n",
       "          fields {\n",
       "            key: \"currency_date\"\n",
       "            value {\n",
       "              string_value: \"latest\"\n",
       "            }\n",
       "          }\n",
       "        }\n",
       "      }\n",
       "    }\n",
       "  }\n",
       "  finish_reason: STOP\n",
       "  safety_ratings {\n",
       "    category: HARM_CATEGORY_HATE_SPEECH\n",
       "    probability: NEGLIGIBLE\n",
       "    probability_score: 0.121582031\n",
       "    severity: HARM_SEVERITY_NEGLIGIBLE\n",
       "    severity_score: 0.0927734375\n",
       "  }\n",
       "  safety_ratings {\n",
       "    category: HARM_CATEGORY_DANGEROUS_CONTENT\n",
       "    probability: NEGLIGIBLE\n",
       "    probability_score: 0.291015625\n",
       "    severity: HARM_SEVERITY_LOW\n",
       "    severity_score: 0.376953125\n",
       "  }\n",
       "  safety_ratings {\n",
       "    category: HARM_CATEGORY_HARASSMENT\n",
       "    probability: NEGLIGIBLE\n",
       "    probability_score: 0.129882812\n",
       "    severity: HARM_SEVERITY_NEGLIGIBLE\n",
       "    severity_score: 0.0966796875\n",
       "  }\n",
       "  safety_ratings {\n",
       "    category: HARM_CATEGORY_SEXUALLY_EXPLICIT\n",
       "    probability: NEGLIGIBLE\n",
       "    probability_score: 0.0849609375\n",
       "    severity: HARM_SEVERITY_NEGLIGIBLE\n",
       "    severity_score: 0.0791015625\n",
       "  }\n",
       "  avg_logprobs: -3.3112548357571036e-08\n",
       "}\n",
       "usage_metadata {\n",
       "  prompt_token_count: 90\n",
       "  candidates_token_count: 18\n",
       "  total_token_count: 108\n",
       "  prompt_tokens_details {\n",
       "    modality: TEXT\n",
       "    token_count: 90\n",
       "  }\n",
       "  candidates_tokens_details {\n",
       "    modality: TEXT\n",
       "    token_count: 18\n",
       "  }\n",
       "}\n",
       "model_version: \"gemini-1.5-pro-001\""
      ]
     },
     "execution_count": 8,
     "metadata": {},
     "output_type": "execute_result"
    }
   ],
   "source": [
    "response"
   ]
  },
  {
   "cell_type": "code",
   "execution_count": 9,
   "metadata": {},
   "outputs": [
    {
     "data": {
      "text/plain": [
       "{'from': 'TWD', 'date': 'latest', 'to': 'USD'}"
      ]
     },
     "execution_count": 9,
     "metadata": {},
     "output_type": "execute_result"
    }
   ],
   "source": [
    "params = {}\n",
    "for key, value in response.candidates[0].content.parts[0].function_call.args.items():\n",
    "    params[key[9:]] = value\n",
    "params"
   ]
  },
  {
   "cell_type": "code",
   "execution_count": 12,
   "metadata": {},
   "outputs": [],
   "source": [
    "import requests\n",
    "\n",
    "url = \"https://cdn.jsdelivr.net/npm/@fawazahmed0/currency-api@latest/v1/currencies.json\"\n",
    "api_response = requests.get(url)"
   ]
  },
  {
   "cell_type": "code",
   "execution_count": 18,
   "metadata": {},
   "outputs": [
    {
     "data": {
      "text/plain": [
       "'{\\n\\t\"1inch\": \"1inch\",\\n\\t\"aave\": \"Aave\",\\n\\t\"ada\": \"Cardano\",\\n\\t\"aed\": \"Emirati Dirham\",\\n\\t\"afn\": \"Afghan Afghani\",\\n\\t\"agix\": \"SingularityNET\",\\n\\t\"akt\": \"Akash Network\",\\n\\t\"algo\": \"Algorand\",\\n\\t\"all\": \"Albanian Lek\",\\n\\t\"amd\": \"Armenian Dram\",\\n\\t\"amp\": \"Amp\",\\n\\t\"ang\": \"Dutch Guilder\",\\n\\t\"aoa\": \"Angolan Kwanza\",\\n\\t\"ape\": \"ApeCoin\",\\n\\t\"apt\": \"Aptos\",\\n\\t\"ar\": \"Arweave\",\\n\\t\"arb\": \"Arbitrum\",\\n\\t\"ars\": \"Argentine Peso\",\\n\\t\"atom\": \"Cosmos\",\\n\\t\"ats\": \"Austrian Schilling\",\\n\\t\"aud\": \"Australian Dollar\",\\n\\t\"avax\": \"Avalanche\",\\n\\t\"awg\": \"Aruban or Dutch Guilder\",\\n\\t\"axs\": \"Axie Infinity\",\\n\\t\"azm\": \"Azerbaijani Manat\",\\n\\t\"azn\": \"Azerbaijan Manat\",\\n\\t\"bake\": \"BakeryToken\",\\n\\t\"bam\": \"Bosnian Convertible Mark\",\\n\\t\"bat\": \"Basic Attention Token\",\\n\\t\"bbd\": \"Barbadian or Bajan Dollar\",\\n\\t\"bch\": \"Bitcoin Cash\",\\n\\t\"bdt\": \"Bangladeshi Taka\",\\n\\t\"bef\": \"Belgian Franc\",\\n\\t\"bgn\": \"Bulgarian Lev\",\\n\\t\"bhd\": \"Bahraini Dinar\",\\n\\t\"bif\": \"Burundian Franc\",\\n\\t\"bmd\": \"Bermudian Dollar\",\\n\\t\"bnb\": \"Binance Coin\",\\n\\t\"bnd\": \"Bruneian Dollar\",\\n\\t\"bob\": \"Bolivian Bolíviano\",\\n\\t\"brl\": \"Brazilian Real\",\\n\\t\"bsd\": \"Bahamian Dollar\",\\n\\t\"bsv\": \"Bitcoin SV\",\\n\\t\"bsw\": \"Biswap\",\\n\\t\"btc\": \"Bitcoin\",\\n\\t\"btcb\": \"Bitcoin BEP2\",\\n\\t\"btg\": \"Bitcoin Gold\",\\n\\t\"btn\": \"Bhutanese Ngultrum\",\\n\\t\"btt\": \"BitTorrent\",\\n\\t\"busd\": \"Binance USD\",\\n\\t\"bwp\": \"Botswana Pula\",\\n\\t\"byn\": \"Belarusian Ruble\",\\n\\t\"byr\": \"Belarusian Ruble\",\\n\\t\"bzd\": \"Belizean Dollar\",\\n\\t\"cad\": \"Canadian Dollar\",\\n\\t\"cake\": \"PancakeSwap\",\\n\\t\"cdf\": \"Congolese Franc\",\\n\\t\"celo\": \"Celo\",\\n\\t\"cfx\": \"Conflux\",\\n\\t\"chf\": \"Swiss Franc\",\\n\\t\"chz\": \"Chiliz\",\\n\\t\"clp\": \"Chilean Peso\",\\n\\t\"cnh\": \"Chinese Yuan Renminbi Offshore\",\\n\\t\"cny\": \"Chinese Yuan Renminbi\",\\n\\t\"comp\": \"Compound\",\\n\\t\"cop\": \"Colombian Peso\",\\n\\t\"crc\": \"Costa Rican Colon\",\\n\\t\"cro\": \"Crypto.com Chain\",\\n\\t\"crv\": \"Curve DAO Token\",\\n\\t\"cspr\": \"Casper\",\\n\\t\"cuc\": \"Cuban Convertible Peso\",\\n\\t\"cup\": \"Cuban Peso\",\\n\\t\"cve\": \"Cape Verdean Escudo\",\\n\\t\"cvx\": \"Convex Finance\",\\n\\t\"cyp\": \"Cypriot Pound\",\\n\\t\"czk\": \"Czech Koruna\",\\n\\t\"dai\": \"DAI\",\\n\\t\"dash\": \"Digital Cash\",\\n\\t\"dcr\": \"Decred\",\\n\\t\"dem\": \"German Deutsche Mark\",\\n\\t\"dfi\": \"DfiStarter\",\\n\\t\"djf\": \"Djiboutian Franc\",\\n\\t\"dkk\": \"Danish Krone\",\\n\\t\"doge\": \"Dogecoin\",\\n\\t\"dop\": \"Dominican Peso\",\\n\\t\"dot\": \"Polkadot\",\\n\\t\"dydx\": \"dYdX\",\\n\\t\"dzd\": \"Algerian Dinar\",\\n\\t\"eek\": \"Estonian Kroon\",\\n\\t\"egld\": \"Elrond\",\\n\\t\"egp\": \"Egyptian Pound\",\\n\\t\"enj\": \"Enjin Coin\",\\n\\t\"eos\": \"EOS\",\\n\\t\"ern\": \"Eritrean Nakfa\",\\n\\t\"esp\": \"Spanish Peseta\",\\n\\t\"etb\": \"Ethiopian Birr\",\\n\\t\"etc\": \"Ethereum Classic\",\\n\\t\"eth\": \"Ethereum\",\\n\\t\"eur\": \"Euro\",\\n\\t\"fei\": \"Fei USD\",\\n\\t\"fil\": \"Filecoin\",\\n\\t\"fim\": \"Finnish Markka\",\\n\\t\"fjd\": \"Fijian Dollar\",\\n\\t\"fkp\": \"Falkland Island Pound\",\\n\\t\"flow\": \"Flow\",\\n\\t\"flr\": \"FLARE\",\\n\\t\"frax\": \"Frax\",\\n\\t\"frf\": \"French Franc\",\\n\\t\"ftt\": \"FarmaTrust\",\\n\\t\"fxs\": \"Frax Share\",\\n\\t\"gala\": \"Gala\",\\n\\t\"gbp\": \"British Pound\",\\n\\t\"gel\": \"Georgian Lari\",\\n\\t\"ggp\": \"Guernsey Pound\",\\n\\t\"ghc\": \"Ghanaian Cedi\",\\n\\t\"ghs\": \"Ghanaian Cedi\",\\n\\t\"gip\": \"Gibraltar Pound\",\\n\\t\"gmd\": \"Gambian Dalasi\",\\n\\t\"gmx\": \"Goldmaxcoin\",\\n\\t\"gnf\": \"Guinean Franc\",\\n\\t\"gno\": \"Gnosis\",\\n\\t\"grd\": \"Greek Drachma\",\\n\\t\"grt\": \"The Graph\",\\n\\t\"gt\": \"GateToken\",\\n\\t\"gtq\": \"Guatemalan Quetzal\",\\n\\t\"gusd\": \"Gemini US Dollar\",\\n\\t\"gyd\": \"Guyanese Dollar\",\\n\\t\"hbar\": \"Hedera\",\\n\\t\"hkd\": \"Hong Kong Dollar\",\\n\\t\"hnl\": \"Honduran Lempira\",\\n\\t\"hnt\": \"Helium\",\\n\\t\"hot\": \"Hydro Protocol\",\\n\\t\"hrk\": \"Croatian Kuna\",\\n\\t\"ht\": \"Huobi Token\",\\n\\t\"htg\": \"Haitian Gourde\",\\n\\t\"huf\": \"Hungarian Forint\",\\n\\t\"icp\": \"Internet Computer\",\\n\\t\"idr\": \"Indonesian Rupiah\",\\n\\t\"iep\": \"Irish Pound\",\\n\\t\"ils\": \"Israeli Shekel\",\\n\\t\"imp\": \"Isle of Man Pound\",\\n\\t\"imx\": \"Immutable X\",\\n\\t\"inj\": \"Injective\",\\n\\t\"inr\": \"Indian Rupee\",\\n\\t\"iqd\": \"Iraqi Dinar\",\\n\\t\"irr\": \"Iranian Rial\",\\n\\t\"isk\": \"Icelandic Krona\",\\n\\t\"itl\": \"Italian Lira\",\\n\\t\"jep\": \"Jersey Pound\",\\n\\t\"jmd\": \"Jamaican Dollar\",\\n\\t\"jod\": \"Jordanian Dinar\",\\n\\t\"jpy\": \"Japanese Yen\",\\n\\t\"kas\": \"\",\\n\\t\"kava\": \"Kava\",\\n\\t\"kcs\": \"Kucoin\",\\n\\t\"kda\": \"Kadena\",\\n\\t\"kes\": \"Kenyan Shilling\",\\n\\t\"kgs\": \"Kyrgyzstani Som\",\\n\\t\"khr\": \"Cambodian Riel\",\\n\\t\"klay\": \"Klaytn\",\\n\\t\"kmf\": \"Comorian Franc\",\\n\\t\"knc\": \"Kyber Network Crystals\",\\n\\t\"kpw\": \"North Korean Won\",\\n\\t\"krw\": \"South Korean Won\",\\n\\t\"ksm\": \"Kusama\",\\n\\t\"kwd\": \"Kuwaiti Dinar\",\\n\\t\"kyd\": \"Caymanian Dollar\",\\n\\t\"kzt\": \"Kazakhstani Tenge\",\\n\\t\"lak\": \"Lao Kip\",\\n\\t\"lbp\": \"Lebanese Pound\",\\n\\t\"ldo\": \"Lido DAO Token\",\\n\\t\"leo\": \"LEOcoin\",\\n\\t\"link\": \"Chainlink\",\\n\\t\"lkr\": \"Sri Lankan Rupee\",\\n\\t\"lrc\": \"Loopring\",\\n\\t\"lrd\": \"Liberian Dollar\",\\n\\t\"lsl\": \"Basotho Loti\",\\n\\t\"ltc\": \"Litecoin\",\\n\\t\"ltl\": \"Lithuanian Litas\",\\n\\t\"luf\": \"Luxembourg Franc\",\\n\\t\"luna\": \"Terra\",\\n\\t\"lunc\": \"\",\\n\\t\"lvl\": \"Latvian Lat\",\\n\\t\"lyd\": \"Libyan Dinar\",\\n\\t\"mad\": \"Moroccan Dirham\",\\n\\t\"mana\": \"Mana Coin Decentraland\",\\n\\t\"matic\": \"Polygon\",\\n\\t\"mbx\": \"MobieCoin\",\\n\\t\"mdl\": \"Moldovan Leu\",\\n\\t\"mga\": \"Malagasy Ariary\",\\n\\t\"mgf\": \"Malagasy Franc\",\\n\\t\"mina\": \"Mina\",\\n\\t\"mkd\": \"Macedonian Denar\",\\n\\t\"mkr\": \"Maker\",\\n\\t\"mmk\": \"Burmese Kyat\",\\n\\t\"mnt\": \"Mongolian Tughrik\",\\n\\t\"mop\": \"Macau Pataca\",\\n\\t\"mro\": \"Mauritanian Ouguiya\",\\n\\t\"mru\": \"Mauritanian Ouguiya\",\\n\\t\"mtl\": \"Maltese Lira\",\\n\\t\"mur\": \"Mauritian Rupee\",\\n\\t\"mvr\": \"Maldivian Rufiyaa\",\\n\\t\"mwk\": \"Malawian Kwacha\",\\n\\t\"mxn\": \"Mexican Peso\",\\n\\t\"mxv\": \"\",\\n\\t\"myr\": \"Malaysian Ringgit\",\\n\\t\"mzm\": \"Mozambican Metical\",\\n\\t\"mzn\": \"Mozambican Metical\",\\n\\t\"nad\": \"Namibian Dollar\",\\n\\t\"near\": \"NEAR Protocol\",\\n\\t\"neo\": \"NEO\",\\n\\t\"nexo\": \"NEXO\",\\n\\t\"nft\": \"NFT\",\\n\\t\"ngn\": \"Nigerian Naira\",\\n\\t\"nio\": \"Nicaraguan Cordoba\",\\n\\t\"nlg\": \"Dutch Guilder\",\\n\\t\"nok\": \"Norwegian Krone\",\\n\\t\"npr\": \"Nepalese Rupee\",\\n\\t\"nzd\": \"New Zealand Dollar\",\\n\\t\"okb\": \"Okex\",\\n\\t\"omr\": \"Omani Rial\",\\n\\t\"one\": \"Menlo One\",\\n\\t\"op\": \"Optimism\",\\n\\t\"ordi\": \"\",\\n\\t\"pab\": \"Panamanian Balboa\",\\n\\t\"paxg\": \"PAX Gold\",\\n\\t\"pen\": \"Peruvian Sol\",\\n\\t\"pepe\": \"\",\\n\\t\"pgk\": \"Papua New Guinean Kina\",\\n\\t\"php\": \"Philippine Peso\",\\n\\t\"pkr\": \"Pakistani Rupee\",\\n\\t\"pln\": \"Polish Zloty\",\\n\\t\"pte\": \"Portuguese Escudo\",\\n\\t\"pyg\": \"Paraguayan Guarani\",\\n\\t\"qar\": \"Qatari Riyal\",\\n\\t\"qnt\": \"Quant\",\\n\\t\"qtum\": \"QTUM\",\\n\\t\"rol\": \"Romanian Leu\",\\n\\t\"ron\": \"Romanian Leu\",\\n\\t\"rpl\": \"Rocket Pool\",\\n\\t\"rsd\": \"Serbian Dinar\",\\n\\t\"rub\": \"Russian Ruble\",\\n\\t\"rune\": \"THORChain (ERC20)\",\\n\\t\"rvn\": \"Ravencoin\",\\n\\t\"rwf\": \"Rwandan Franc\",\\n\\t\"sand\": \"The Sandbox\",\\n\\t\"sar\": \"Saudi Arabian Riyal\",\\n\\t\"sbd\": \"Solomon Islander Dollar\",\\n\\t\"scr\": \"Seychellois Rupee\",\\n\\t\"sdd\": \"Sudanese Dinar\",\\n\\t\"sdg\": \"Sudanese Pound\",\\n\\t\"sek\": \"Swedish Krona\",\\n\\t\"sgd\": \"Singapore Dollar\",\\n\\t\"shib\": \"Shiba Inu\",\\n\\t\"shp\": \"Saint Helenian Pound\",\\n\\t\"sit\": \"Slovenian Tolar\",\\n\\t\"skk\": \"Slovak Koruna\",\\n\\t\"sle\": \"Sierra Leonean Leone\",\\n\\t\"sll\": \"Sierra Leonean Leone\",\\n\\t\"snx\": \"Synthetix Network\",\\n\\t\"sol\": \"Solana\",\\n\\t\"sos\": \"Somali Shilling\",\\n\\t\"spl\": \"Seborgan Luigino\",\\n\\t\"srd\": \"Surinamese Dollar\",\\n\\t\"srg\": \"Surinamese Guilder\",\\n\\t\"std\": \"Sao Tomean Dobra\",\\n\\t\"stn\": \"Sao Tomean Dobra\",\\n\\t\"stx\": \"Stacks\",\\n\\t\"sui\": \"Sui\",\\n\\t\"svc\": \"Salvadoran Colon\",\\n\\t\"syp\": \"Syrian Pound\",\\n\\t\"szl\": \"Swazi Lilangeni\",\\n\\t\"thb\": \"Thai Baht\",\\n\\t\"theta\": \"Theta\",\\n\\t\"tjs\": \"Tajikistani Somoni\",\\n\\t\"tmm\": \"Turkmenistani Manat\",\\n\\t\"tmt\": \"Turkmenistani Manat\",\\n\\t\"tnd\": \"Tunisian Dinar\",\\n\\t\"ton\": \"Tokamak Network\",\\n\\t\"top\": \"Tongan Pa\\'anga\",\\n\\t\"trl\": \"\",\\n\\t\"trx\": \"TRON\",\\n\\t\"try\": \"Turkish Lira\",\\n\\t\"ttd\": \"Trinidadian Dollar\",\\n\\t\"tusd\": \"True USD\",\\n\\t\"tvd\": \"Tuvaluan Dollar\",\\n\\t\"twd\": \"Taiwan New Dollar\",\\n\\t\"twt\": \"Trust Wallet Token\",\\n\\t\"tzs\": \"Tanzanian Shilling\",\\n\\t\"uah\": \"Ukrainian Hryvnia\",\\n\\t\"ugx\": \"Ugandan Shilling\",\\n\\t\"uni\": \"Uniswap\",\\n\\t\"usd\": \"US Dollar\",\\n\\t\"usdc\": \"USDC\",\\n\\t\"usdd\": \"\",\\n\\t\"usdp\": \"USDP Stablecoin\",\\n\\t\"usdt\": \"Tether\",\\n\\t\"uyu\": \"Uruguayan Peso\",\\n\\t\"uzs\": \"Uzbekistani Som\",\\n\\t\"val\": \"Vatican City Lira\",\\n\\t\"veb\": \"Venezuelan Bolívar\",\\n\\t\"ved\": \"\",\\n\\t\"vef\": \"Venezuelan Bolívar\",\\n\\t\"ves\": \"Venezuelan Bolívar\",\\n\\t\"vet\": \"Vechain\",\\n\\t\"vnd\": \"Vietnamese Dong\",\\n\\t\"vuv\": \"Ni-Vanuatu Vatu\",\\n\\t\"waves\": \"Waves\",\\n\\t\"wemix\": \"WEMIX\",\\n\\t\"woo\": \"WOO Network\",\\n\\t\"wst\": \"Samoan Tala\",\\n\\t\"xaf\": \"Central African CFA Franc BEAC\",\\n\\t\"xag\": \"Silver Ounce\",\\n\\t\"xau\": \"Gold Ounce\",\\n\\t\"xaut\": \"Tether Gold\",\\n\\t\"xbt\": \"\",\\n\\t\"xcd\": \"East Caribbean Dollar\",\\n\\t\"xch\": \"Chia\",\\n\\t\"xdc\": \"XDC Network\",\\n\\t\"xdr\": \"IMF Special Drawing Rights\",\\n\\t\"xec\": \"Eternal Coin\",\\n\\t\"xem\": \"NEM\",\\n\\t\"xlm\": \"Stellar Lumen\",\\n\\t\"xmr\": \"Monero\",\\n\\t\"xof\": \"CFA Franc\",\\n\\t\"xpd\": \"Palladium Ounce\",\\n\\t\"xpf\": \"CFP Franc\",\\n\\t\"xpt\": \"Platinum Ounce\",\\n\\t\"xrp\": \"Ripple\",\\n\\t\"xtz\": \"Tezos\",\\n\\t\"yer\": \"Yemeni Rial\",\\n\\t\"zar\": \"South African Rand\",\\n\\t\"zec\": \"ZCash\",\\n\\t\"zil\": \"Zilliqa\",\\n\\t\"zmk\": \"Zambian Kwacha\",\\n\\t\"zmw\": \"Zambian Kwacha\",\\n\\t\"zwd\": \"Zimbabwean Dollar\",\\n\\t\"zwg\": \"\",\\n\\t\"zwl\": \"Zimbabwean Dollar\"\\n}'"
      ]
     },
     "execution_count": 18,
     "metadata": {},
     "output_type": "execute_result"
    }
   ],
   "source": [
    "api_response.text"
   ]
  },
  {
   "cell_type": "code",
   "execution_count": 10,
   "metadata": {},
   "outputs": [
    {
     "data": {
      "text/plain": [
       "'{\"message\":\"not found\"}'"
      ]
     },
     "execution_count": 10,
     "metadata": {},
     "output_type": "execute_result"
    }
   ],
   "source": [
    "import requests\n",
    "url = f\"https://api.frankfurter.app/{params['date']}\"\n",
    "api_response = requests.get(url, params=params)\n",
    "api_response.text"
   ]
  },
  {
   "cell_type": "code",
   "execution_count": 11,
   "metadata": {},
   "outputs": [
    {
     "data": {
      "text/plain": [
       "'I can\\'t get the exchange rate. The API returned an error: \"not found\". Therefore, I cannot calculate the conversion from Taiwanese Dollars to US Dollars. \\n'"
      ]
     },
     "execution_count": 11,
     "metadata": {},
     "output_type": "execute_result"
    }
   ],
   "source": [
    "response = model.generate_content(\n",
    "    [\n",
    "    Content(role=\"user\", parts=[\n",
    "        Part.from_text(prompt + \"\"\"Give your answer in steps with lots of detail\n",
    "            and context, including the exchange rate and date.\"\"\"),\n",
    "    ]),\n",
    "    Content(role=\"function\", parts=[\n",
    "        Part.from_dict({\n",
    "            \"function_call\": {\n",
    "                \"name\": \"get_exchange_rate\",\n",
    "            }\n",
    "        })\n",
    "    ]),\n",
    "    Content(role=\"function\", parts=[\n",
    "        Part.from_function_response(\n",
    "            name=\"get_exchange_rate\",\n",
    "            response={\n",
    "                \"content\": api_response.text,\n",
    "            }\n",
    "        )\n",
    "    ]),\n",
    "    ],\n",
    "    tools=[exchange_rate_tool],\n",
    ")\n",
    "\n",
    "\n",
    "response.candidates[0].content.parts[0].text"
   ]
  },
  {
   "cell_type": "code",
   "execution_count": null,
   "metadata": {},
   "outputs": [],
   "source": []
  }
 ],
 "metadata": {
  "kernelspec": {
   "display_name": "base",
   "language": "python",
   "name": "python3"
  },
  "language_info": {
   "codemirror_mode": {
    "name": "ipython",
    "version": 3
   },
   "file_extension": ".py",
   "mimetype": "text/x-python",
   "name": "python",
   "nbconvert_exporter": "python",
   "pygments_lexer": "ipython3",
   "version": "3.12.7"
  }
 },
 "nbformat": 4,
 "nbformat_minor": 2
}
